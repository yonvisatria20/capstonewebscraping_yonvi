{
 "cells": [
  {
   "cell_type": "markdown",
   "metadata": {},
   "source": [
    "# Capstone Webscrapping using BeautifulSoup\n",
    "\n",
    "This notebook contains guidances & tasks on the data processing for the application\n",
    "\n",
    "## background\n",
    "\n",
    "(Here I want to extract Date and Volume to know how Etherium volume movement. So I need the data from Date column and Volume column )\n",
    "\n",
    "## Requesting the Data and Creating a BeautifulSoup\n",
    "\n",
    "Let's begin with requesting the web from the site with `get` method."
   ]
  },
  {
   "cell_type": "code",
   "execution_count": 49,
   "metadata": {
    "ExecuteTime": {
     "end_time": "2020-01-13T05:12:23.275508Z",
     "start_time": "2020-01-13T05:12:20.009898Z"
    }
   },
   "outputs": [],
   "source": [
    "import requests\n",
    "\n",
    "url = 'https://www.coingecko.com/en/coins/ethereum/historical_data/?start_date=2020-01-01&end_date=2021-06-30#panel'\n",
    "url_get = requests.get(url, \n",
    "                      headers = {\n",
    "        'User-Agent': 'Popular browsers user-agent'\n",
    "    })"
   ]
  },
  {
   "cell_type": "markdown",
   "metadata": {},
   "source": [
    "To visualize what exactly you get from the `request.get`, we can use .content so ee what we exactly get, in here i slice it so it won't make our screen full of the html we get from the page. You can delete the slicing if you want to see what we fully get."
   ]
  },
  {
   "cell_type": "code",
   "execution_count": 50,
   "metadata": {
    "ExecuteTime": {
     "end_time": "2020-01-13T05:12:23.290648Z",
     "start_time": "2020-01-13T05:12:23.277650Z"
    }
   },
   "outputs": [
    {
     "data": {
      "text/plain": [
       "b'!DOCTYPE html>\\n<html lang=\"en\">\\n<head>\\n<script src=\"/cdn-cgi/apps/head/gYtXOyllgyP3-Z2iKTP8rRWGBm4.js\"></script><script async defer src=\"https://www.googleoptimize.com/optimize.js?id=GTM-W3CD992\"></script>\\n<meta charset=\"utf-8\">\\n<meta http-equiv=\"X-UA-Compatible\" content=\"IE=edge\">\\n<script>window.NREUM||(NREUM={});NREUM.info={\"beacon\":\"bam.nr-data.net\",\"errorBeacon\":\"bam.nr-data.net\",\"licenseKey\":\"cd4a6493ab\",\"applicationID\":\"83495717\",\"transactionName\":\"dV5dRBNcDlkEEU5SDF9fQB8JWhFBDhEIUgJabldR'"
      ]
     },
     "execution_count": 50,
     "metadata": {},
     "output_type": "execute_result"
    }
   ],
   "source": [
    "url_get.content[1:500]"
   ]
  },
  {
   "cell_type": "markdown",
   "metadata": {},
   "source": [
    "As we can see we get a very unstructured and complex html, which actually contains the codes needed to show the webpages on your web browser. But we as human still confused what and where we can use that piece of code, so here where we use the beautifulsoup. Beautiful soup class will result a beautifulsoup object. Beautiful Soup transforms a complex HTML document into a complex tree of Python objects. \n",
    "\n",
    "Let's make Beautiful soup object and feel free to explore the object here."
   ]
  },
  {
   "cell_type": "code",
   "execution_count": 51,
   "metadata": {
    "ExecuteTime": {
     "end_time": "2020-01-13T05:12:23.808122Z",
     "start_time": "2020-01-13T05:12:23.292610Z"
    }
   },
   "outputs": [
    {
     "name": "stdout",
     "output_type": "stream",
     "text": [
      "<class 'bs4.BeautifulSoup'>\n"
     ]
    }
   ],
   "source": [
    "from bs4 import BeautifulSoup \n",
    "\n",
    "soup = BeautifulSoup(url_get.content,\"html.parser\")\n",
    "print(type(soup))"
   ]
  },
  {
   "cell_type": "code",
   "execution_count": 52,
   "metadata": {},
   "outputs": [
    {
     "name": "stdout",
     "output_type": "stream",
     "text": [
      "<!DOCTYPE html>\n",
      "<html lang=\"en\">\n",
      " <head>\n",
      "  <script src=\"/cdn-cgi/apps/head/gYtXOyllgyP3-Z2iKTP8rRWGBm4.js\">\n",
      "  </script>\n",
      "  <script async=\"\" defer=\"\" src=\"https://www.googleoptimize.com/optimize.js?id=GTM-W3CD992\">\n",
      "  </script>\n",
      "  <meta charset=\"utf-8\"/>\n",
      "  <meta content=\"IE=edge\" http-equiv=\"X-UA-Compatible\"/>\n",
      "  <script>\n",
      "   window.NREUM||(NREUM={});NREUM.info={\"beacon\":\"bam.nr-data.net\",\"errorBeacon\":\"bam.nr-data.net\",\"licenseKey\":\"cd4a6493ab\",\"applicationID\":\"83495717\",\"transactionName\":\"dV5dRBNcDl\n"
     ]
    }
   ],
   "source": [
    "print(soup.prettify()[:500])"
   ]
  },
  {
   "cell_type": "markdown",
   "metadata": {},
   "source": [
    "## Finding the right key to scrap the data & Extracting the right information"
   ]
  },
  {
   "cell_type": "markdown",
   "metadata": {},
   "source": [
    "Find the key and put the key into the `.find()` Put all the exploring the right key at this cell. (Here I will find_all th tag so I can see how the Date content in the table."
   ]
  },
  {
   "cell_type": "markdown",
   "metadata": {},
   "source": [
    "Finding row length."
   ]
  },
  {
   "cell_type": "markdown",
   "metadata": {},
   "source": [
    "Do the scrapping process here (please change this markdown with your explanation)"
   ]
  },
  {
   "cell_type": "code",
   "execution_count": 53,
   "metadata": {
    "scrolled": true
   },
   "outputs": [
    {
     "name": "stdout",
     "output_type": "stream",
     "text": [
      "60\n"
     ]
    }
   ],
   "source": [
    "rightkey = soup.find_all('th',class_ = 'font-semibold text-center')\n",
    "row = len(rightkey)\n",
    "print(row)"
   ]
  },
  {
   "cell_type": "markdown",
   "metadata": {},
   "source": [
    "Content from table located in tr tags. The contents of the Date column itself is wrapped with a th tag, whereas the contents of the Volume column wrapped with td tag. But, there are some columns that wrapped with a td tag ('Market Cap, Volume, Open, Close). Because we just scrap the contents of the Volume column so we just scrap the second td tag because the content of Volume column is wrapped by second td. It means we must scrap td[1] (because index start from 0). So let's looping to exctract all text in every column."
   ]
  },
  {
   "cell_type": "code",
   "execution_count": 54,
   "metadata": {
    "ExecuteTime": {
     "end_time": "2020-01-13T05:12:24.008256Z",
     "start_time": "2020-01-13T05:12:23.980358Z"
    }
   },
   "outputs": [
    {
     "data": {
      "text/plain": [
       "[('2021-06-30', '$27,149,143,847'),\n",
       " ('2021-06-29', '$30,629,329,806'),\n",
       " ('2021-06-28', '$24,316,408,028'),\n",
       " ('2021-06-27', '$24,249,510,321'),\n",
       " ('2021-06-26', '$25,981,381,067'),\n",
       " ('2021-06-25', '$22,447,489,242'),\n",
       " ('2021-06-24', '$28,098,744,045'),\n",
       " ('2021-06-23', '$38,755,019,937'),\n",
       " ('2021-06-22', '$39,499,960,408'),\n",
       " ('2021-06-21', '$26,235,850,447'),\n",
       " ('2021-06-20', '$20,456,963,375'),\n",
       " ('2021-06-19', '$26,204,484,921'),\n",
       " ('2021-06-18', '$25,708,624,827'),\n",
       " ('2021-06-17', '$26,150,320,395'),\n",
       " ('2021-06-16', '$26,803,957,680'),\n",
       " ('2021-06-15', '$28,128,172,338'),\n",
       " ('2021-06-14', '$29,382,118,964'),\n",
       " ('2021-06-13', '$28,235,882,062'),\n",
       " ('2021-06-12', '$26,751,786,966'),\n",
       " ('2021-06-11', '$33,075,957,437'),\n",
       " ('2021-06-10', '$43,973,432,438'),\n",
       " ('2021-06-09', '$48,344,195,674'),\n",
       " ('2021-06-08', '$37,385,872,210'),\n",
       " ('2021-06-07', '$29,050,162,249'),\n",
       " ('2021-06-06', '$34,731,979,705'),\n",
       " ('2021-06-05', '$39,996,583,175'),\n",
       " ('2021-06-04', '$38,104,663,185'),\n",
       " ('2021-06-03', '$39,148,856,525'),\n",
       " ('2021-06-02', '$39,898,648,753'),\n",
       " ('2021-06-01', '$44,445,830,388'),\n",
       " ('2021-05-31', '$37,392,021,394'),\n",
       " ('2021-05-30', '$47,141,249,182'),\n",
       " ('2021-05-29', '$49,493,519,120'),\n",
       " ('2021-05-28', '$44,070,236,220'),\n",
       " ('2021-05-27', '$53,115,222,705'),\n",
       " ('2021-05-26', '$92,468,701,274'),\n",
       " ('2021-05-25', '$73,496,058,831'),\n",
       " ('2021-05-24', '$77,839,858,614'),\n",
       " ('2021-05-23', '$102,524,751,568'),\n",
       " ('2021-05-22', '$115,000,901,892'),\n",
       " ('2021-05-21', '$92,538,167,828'),\n",
       " ('2021-05-20', '$117,905,041,184'),\n",
       " ('2021-05-19', '$59,160,464,538'),\n",
       " ('2021-05-18', '$75,100,584,776'),\n",
       " ('2021-05-17', '$67,531,308,124'),\n",
       " ('2021-05-16', '$58,150,860,876'),\n",
       " ('2021-05-15', '$63,587,729,060'),\n",
       " ('2021-05-14', '$97,383,442,023'),\n",
       " ('2021-05-13', '$78,772,032,255'),\n",
       " ('2021-05-12', '$67,869,198,116'),\n",
       " ('2021-05-11', '$80,827,215,918'),\n",
       " ('2021-05-10', '$61,625,657,297'),\n",
       " ('2021-05-09', '$60,174,921,874'),\n",
       " ('2021-05-08', '$44,980,768,421'),\n",
       " ('2021-05-07', '$50,430,169,753'),\n",
       " ('2021-05-06', '$63,552,342,594'),\n",
       " ('2021-05-05', '$78,437,235,046'),\n",
       " ('2021-05-04', '$64,192,650,586'),\n",
       " ('2021-05-03', '$35,727,432,416'),\n",
       " ('2021-05-02', '$36,721,647,718')]"
      ]
     },
     "execution_count": 54,
     "metadata": {},
     "output_type": "execute_result"
    }
   ],
   "source": [
    "temp = []\n",
    "for tr in soup.find_all('tr')[1:]:\n",
    "    ths = tr.find_all('th')\n",
    "    date= ths[0].text\n",
    "    tds = tr.find_all('td')\n",
    "    volume= tds[1].text.strip()\n",
    "    \n",
    "    temp.append((date, volume))\n",
    "\n",
    "temp\n",
    "    "
   ]
  },
  {
   "cell_type": "markdown",
   "metadata": {},
   "source": [
    "## Creating data frame & Data wrangling"
   ]
  },
  {
   "cell_type": "markdown",
   "metadata": {},
   "source": [
    "Put the array into dataframe"
   ]
  },
  {
   "cell_type": "code",
   "execution_count": 55,
   "metadata": {
    "ExecuteTime": {
     "end_time": "2020-01-13T05:12:41.517372Z",
     "start_time": "2020-01-13T05:12:29.130015Z"
    }
   },
   "outputs": [
    {
     "data": {
      "text/html": [
       "<div>\n",
       "<style scoped>\n",
       "    .dataframe tbody tr th:only-of-type {\n",
       "        vertical-align: middle;\n",
       "    }\n",
       "\n",
       "    .dataframe tbody tr th {\n",
       "        vertical-align: top;\n",
       "    }\n",
       "\n",
       "    .dataframe thead th {\n",
       "        text-align: right;\n",
       "    }\n",
       "</style>\n",
       "<table border=\"1\" class=\"dataframe\">\n",
       "  <thead>\n",
       "    <tr style=\"text-align: right;\">\n",
       "      <th></th>\n",
       "      <th>Date</th>\n",
       "      <th>Volume</th>\n",
       "    </tr>\n",
       "  </thead>\n",
       "  <tbody>\n",
       "    <tr>\n",
       "      <th>0</th>\n",
       "      <td>2021-06-30</td>\n",
       "      <td>$27,149,143,847</td>\n",
       "    </tr>\n",
       "    <tr>\n",
       "      <th>1</th>\n",
       "      <td>2021-06-29</td>\n",
       "      <td>$30,629,329,806</td>\n",
       "    </tr>\n",
       "    <tr>\n",
       "      <th>2</th>\n",
       "      <td>2021-06-28</td>\n",
       "      <td>$24,316,408,028</td>\n",
       "    </tr>\n",
       "    <tr>\n",
       "      <th>3</th>\n",
       "      <td>2021-06-27</td>\n",
       "      <td>$24,249,510,321</td>\n",
       "    </tr>\n",
       "    <tr>\n",
       "      <th>4</th>\n",
       "      <td>2021-06-26</td>\n",
       "      <td>$25,981,381,067</td>\n",
       "    </tr>\n",
       "  </tbody>\n",
       "</table>\n",
       "</div>"
      ],
      "text/plain": [
       "         Date           Volume\n",
       "0  2021-06-30  $27,149,143,847\n",
       "1  2021-06-29  $30,629,329,806\n",
       "2  2021-06-28  $24,316,408,028\n",
       "3  2021-06-27  $24,249,510,321\n",
       "4  2021-06-26  $25,981,381,067"
      ]
     },
     "execution_count": 55,
     "metadata": {},
     "output_type": "execute_result"
    }
   ],
   "source": [
    "import pandas as pd\n",
    "df = pd.DataFrame(temp, columns =('Date', 'Volume'))\n",
    "df.head()"
   ]
  },
  {
   "cell_type": "markdown",
   "metadata": {},
   "source": [
    "So I must change data types of every columns. The \"Date\" column must change to datetime64. Whereas The \"Volume\" column must change to int64. But before I must delete some string in the 'Volume' column so that it can changed to int64"
   ]
  },
  {
   "cell_type": "code",
   "execution_count": 56,
   "metadata": {
    "ExecuteTime": {
     "end_time": "2020-01-13T05:12:59.165559Z",
     "start_time": "2020-01-13T05:12:58.910012Z"
    }
   },
   "outputs": [
    {
     "data": {
      "text/plain": [
       "Date      object\n",
       "Volume    object\n",
       "dtype: object"
      ]
     },
     "execution_count": 56,
     "metadata": {},
     "output_type": "execute_result"
    }
   ],
   "source": [
    "df.dtypes"
   ]
  },
  {
   "cell_type": "markdown",
   "metadata": {},
   "source": [
    "Data visualisation (please change this markdown with your explanation of what you do for data wrangling)"
   ]
  },
  {
   "cell_type": "code",
   "execution_count": 57,
   "metadata": {},
   "outputs": [
    {
     "data": {
      "text/plain": [
       "Date      datetime64[ns]\n",
       "Volume             int64\n",
       "dtype: object"
      ]
     },
     "execution_count": 57,
     "metadata": {},
     "output_type": "execute_result"
    }
   ],
   "source": [
    "df['Volume'] = df['Volume'].str.replace(',' , '')\n",
    "df['Volume'] = df['Volume'].str.replace('$', '')\n",
    "df['Volume'] = df['Volume'].astype('int64')\n",
    "df['Date'] =   df['Date'].astype('datetime64')\n",
    "df.dtypes"
   ]
  },
  {
   "cell_type": "code",
   "execution_count": 58,
   "metadata": {},
   "outputs": [
    {
     "data": {
      "text/html": [
       "<div>\n",
       "<style scoped>\n",
       "    .dataframe tbody tr th:only-of-type {\n",
       "        vertical-align: middle;\n",
       "    }\n",
       "\n",
       "    .dataframe tbody tr th {\n",
       "        vertical-align: top;\n",
       "    }\n",
       "\n",
       "    .dataframe thead th {\n",
       "        text-align: right;\n",
       "    }\n",
       "</style>\n",
       "<table border=\"1\" class=\"dataframe\">\n",
       "  <thead>\n",
       "    <tr style=\"text-align: right;\">\n",
       "      <th></th>\n",
       "      <th>Date</th>\n",
       "      <th>Volume</th>\n",
       "    </tr>\n",
       "  </thead>\n",
       "  <tbody>\n",
       "    <tr>\n",
       "      <th>0</th>\n",
       "      <td>2021-06-30</td>\n",
       "      <td>27149143847</td>\n",
       "    </tr>\n",
       "    <tr>\n",
       "      <th>1</th>\n",
       "      <td>2021-06-29</td>\n",
       "      <td>30629329806</td>\n",
       "    </tr>\n",
       "    <tr>\n",
       "      <th>2</th>\n",
       "      <td>2021-06-28</td>\n",
       "      <td>24316408028</td>\n",
       "    </tr>\n",
       "    <tr>\n",
       "      <th>3</th>\n",
       "      <td>2021-06-27</td>\n",
       "      <td>24249510321</td>\n",
       "    </tr>\n",
       "    <tr>\n",
       "      <th>4</th>\n",
       "      <td>2021-06-26</td>\n",
       "      <td>25981381067</td>\n",
       "    </tr>\n",
       "    <tr>\n",
       "      <th>5</th>\n",
       "      <td>2021-06-25</td>\n",
       "      <td>22447489242</td>\n",
       "    </tr>\n",
       "    <tr>\n",
       "      <th>6</th>\n",
       "      <td>2021-06-24</td>\n",
       "      <td>28098744045</td>\n",
       "    </tr>\n",
       "    <tr>\n",
       "      <th>7</th>\n",
       "      <td>2021-06-23</td>\n",
       "      <td>38755019937</td>\n",
       "    </tr>\n",
       "    <tr>\n",
       "      <th>8</th>\n",
       "      <td>2021-06-22</td>\n",
       "      <td>39499960408</td>\n",
       "    </tr>\n",
       "    <tr>\n",
       "      <th>9</th>\n",
       "      <td>2021-06-21</td>\n",
       "      <td>26235850447</td>\n",
       "    </tr>\n",
       "    <tr>\n",
       "      <th>10</th>\n",
       "      <td>2021-06-20</td>\n",
       "      <td>20456963375</td>\n",
       "    </tr>\n",
       "    <tr>\n",
       "      <th>11</th>\n",
       "      <td>2021-06-19</td>\n",
       "      <td>26204484921</td>\n",
       "    </tr>\n",
       "    <tr>\n",
       "      <th>12</th>\n",
       "      <td>2021-06-18</td>\n",
       "      <td>25708624827</td>\n",
       "    </tr>\n",
       "    <tr>\n",
       "      <th>13</th>\n",
       "      <td>2021-06-17</td>\n",
       "      <td>26150320395</td>\n",
       "    </tr>\n",
       "    <tr>\n",
       "      <th>14</th>\n",
       "      <td>2021-06-16</td>\n",
       "      <td>26803957680</td>\n",
       "    </tr>\n",
       "    <tr>\n",
       "      <th>15</th>\n",
       "      <td>2021-06-15</td>\n",
       "      <td>28128172338</td>\n",
       "    </tr>\n",
       "    <tr>\n",
       "      <th>16</th>\n",
       "      <td>2021-06-14</td>\n",
       "      <td>29382118964</td>\n",
       "    </tr>\n",
       "    <tr>\n",
       "      <th>17</th>\n",
       "      <td>2021-06-13</td>\n",
       "      <td>28235882062</td>\n",
       "    </tr>\n",
       "    <tr>\n",
       "      <th>18</th>\n",
       "      <td>2021-06-12</td>\n",
       "      <td>26751786966</td>\n",
       "    </tr>\n",
       "    <tr>\n",
       "      <th>19</th>\n",
       "      <td>2021-06-11</td>\n",
       "      <td>33075957437</td>\n",
       "    </tr>\n",
       "    <tr>\n",
       "      <th>20</th>\n",
       "      <td>2021-06-10</td>\n",
       "      <td>43973432438</td>\n",
       "    </tr>\n",
       "    <tr>\n",
       "      <th>21</th>\n",
       "      <td>2021-06-09</td>\n",
       "      <td>48344195674</td>\n",
       "    </tr>\n",
       "    <tr>\n",
       "      <th>22</th>\n",
       "      <td>2021-06-08</td>\n",
       "      <td>37385872210</td>\n",
       "    </tr>\n",
       "    <tr>\n",
       "      <th>23</th>\n",
       "      <td>2021-06-07</td>\n",
       "      <td>29050162249</td>\n",
       "    </tr>\n",
       "    <tr>\n",
       "      <th>24</th>\n",
       "      <td>2021-06-06</td>\n",
       "      <td>34731979705</td>\n",
       "    </tr>\n",
       "    <tr>\n",
       "      <th>25</th>\n",
       "      <td>2021-06-05</td>\n",
       "      <td>39996583175</td>\n",
       "    </tr>\n",
       "    <tr>\n",
       "      <th>26</th>\n",
       "      <td>2021-06-04</td>\n",
       "      <td>38104663185</td>\n",
       "    </tr>\n",
       "    <tr>\n",
       "      <th>27</th>\n",
       "      <td>2021-06-03</td>\n",
       "      <td>39148856525</td>\n",
       "    </tr>\n",
       "    <tr>\n",
       "      <th>28</th>\n",
       "      <td>2021-06-02</td>\n",
       "      <td>39898648753</td>\n",
       "    </tr>\n",
       "    <tr>\n",
       "      <th>29</th>\n",
       "      <td>2021-06-01</td>\n",
       "      <td>44445830388</td>\n",
       "    </tr>\n",
       "    <tr>\n",
       "      <th>30</th>\n",
       "      <td>2021-05-31</td>\n",
       "      <td>37392021394</td>\n",
       "    </tr>\n",
       "    <tr>\n",
       "      <th>31</th>\n",
       "      <td>2021-05-30</td>\n",
       "      <td>47141249182</td>\n",
       "    </tr>\n",
       "    <tr>\n",
       "      <th>32</th>\n",
       "      <td>2021-05-29</td>\n",
       "      <td>49493519120</td>\n",
       "    </tr>\n",
       "    <tr>\n",
       "      <th>33</th>\n",
       "      <td>2021-05-28</td>\n",
       "      <td>44070236220</td>\n",
       "    </tr>\n",
       "    <tr>\n",
       "      <th>34</th>\n",
       "      <td>2021-05-27</td>\n",
       "      <td>53115222705</td>\n",
       "    </tr>\n",
       "    <tr>\n",
       "      <th>35</th>\n",
       "      <td>2021-05-26</td>\n",
       "      <td>92468701274</td>\n",
       "    </tr>\n",
       "    <tr>\n",
       "      <th>36</th>\n",
       "      <td>2021-05-25</td>\n",
       "      <td>73496058831</td>\n",
       "    </tr>\n",
       "    <tr>\n",
       "      <th>37</th>\n",
       "      <td>2021-05-24</td>\n",
       "      <td>77839858614</td>\n",
       "    </tr>\n",
       "    <tr>\n",
       "      <th>38</th>\n",
       "      <td>2021-05-23</td>\n",
       "      <td>102524751568</td>\n",
       "    </tr>\n",
       "    <tr>\n",
       "      <th>39</th>\n",
       "      <td>2021-05-22</td>\n",
       "      <td>115000901892</td>\n",
       "    </tr>\n",
       "    <tr>\n",
       "      <th>40</th>\n",
       "      <td>2021-05-21</td>\n",
       "      <td>92538167828</td>\n",
       "    </tr>\n",
       "    <tr>\n",
       "      <th>41</th>\n",
       "      <td>2021-05-20</td>\n",
       "      <td>117905041184</td>\n",
       "    </tr>\n",
       "    <tr>\n",
       "      <th>42</th>\n",
       "      <td>2021-05-19</td>\n",
       "      <td>59160464538</td>\n",
       "    </tr>\n",
       "    <tr>\n",
       "      <th>43</th>\n",
       "      <td>2021-05-18</td>\n",
       "      <td>75100584776</td>\n",
       "    </tr>\n",
       "    <tr>\n",
       "      <th>44</th>\n",
       "      <td>2021-05-17</td>\n",
       "      <td>67531308124</td>\n",
       "    </tr>\n",
       "    <tr>\n",
       "      <th>45</th>\n",
       "      <td>2021-05-16</td>\n",
       "      <td>58150860876</td>\n",
       "    </tr>\n",
       "    <tr>\n",
       "      <th>46</th>\n",
       "      <td>2021-05-15</td>\n",
       "      <td>63587729060</td>\n",
       "    </tr>\n",
       "    <tr>\n",
       "      <th>47</th>\n",
       "      <td>2021-05-14</td>\n",
       "      <td>97383442023</td>\n",
       "    </tr>\n",
       "    <tr>\n",
       "      <th>48</th>\n",
       "      <td>2021-05-13</td>\n",
       "      <td>78772032255</td>\n",
       "    </tr>\n",
       "    <tr>\n",
       "      <th>49</th>\n",
       "      <td>2021-05-12</td>\n",
       "      <td>67869198116</td>\n",
       "    </tr>\n",
       "    <tr>\n",
       "      <th>50</th>\n",
       "      <td>2021-05-11</td>\n",
       "      <td>80827215918</td>\n",
       "    </tr>\n",
       "    <tr>\n",
       "      <th>51</th>\n",
       "      <td>2021-05-10</td>\n",
       "      <td>61625657297</td>\n",
       "    </tr>\n",
       "    <tr>\n",
       "      <th>52</th>\n",
       "      <td>2021-05-09</td>\n",
       "      <td>60174921874</td>\n",
       "    </tr>\n",
       "    <tr>\n",
       "      <th>53</th>\n",
       "      <td>2021-05-08</td>\n",
       "      <td>44980768421</td>\n",
       "    </tr>\n",
       "    <tr>\n",
       "      <th>54</th>\n",
       "      <td>2021-05-07</td>\n",
       "      <td>50430169753</td>\n",
       "    </tr>\n",
       "    <tr>\n",
       "      <th>55</th>\n",
       "      <td>2021-05-06</td>\n",
       "      <td>63552342594</td>\n",
       "    </tr>\n",
       "    <tr>\n",
       "      <th>56</th>\n",
       "      <td>2021-05-05</td>\n",
       "      <td>78437235046</td>\n",
       "    </tr>\n",
       "    <tr>\n",
       "      <th>57</th>\n",
       "      <td>2021-05-04</td>\n",
       "      <td>64192650586</td>\n",
       "    </tr>\n",
       "    <tr>\n",
       "      <th>58</th>\n",
       "      <td>2021-05-03</td>\n",
       "      <td>35727432416</td>\n",
       "    </tr>\n",
       "    <tr>\n",
       "      <th>59</th>\n",
       "      <td>2021-05-02</td>\n",
       "      <td>36721647718</td>\n",
       "    </tr>\n",
       "  </tbody>\n",
       "</table>\n",
       "</div>"
      ],
      "text/plain": [
       "         Date        Volume\n",
       "0  2021-06-30   27149143847\n",
       "1  2021-06-29   30629329806\n",
       "2  2021-06-28   24316408028\n",
       "3  2021-06-27   24249510321\n",
       "4  2021-06-26   25981381067\n",
       "5  2021-06-25   22447489242\n",
       "6  2021-06-24   28098744045\n",
       "7  2021-06-23   38755019937\n",
       "8  2021-06-22   39499960408\n",
       "9  2021-06-21   26235850447\n",
       "10 2021-06-20   20456963375\n",
       "11 2021-06-19   26204484921\n",
       "12 2021-06-18   25708624827\n",
       "13 2021-06-17   26150320395\n",
       "14 2021-06-16   26803957680\n",
       "15 2021-06-15   28128172338\n",
       "16 2021-06-14   29382118964\n",
       "17 2021-06-13   28235882062\n",
       "18 2021-06-12   26751786966\n",
       "19 2021-06-11   33075957437\n",
       "20 2021-06-10   43973432438\n",
       "21 2021-06-09   48344195674\n",
       "22 2021-06-08   37385872210\n",
       "23 2021-06-07   29050162249\n",
       "24 2021-06-06   34731979705\n",
       "25 2021-06-05   39996583175\n",
       "26 2021-06-04   38104663185\n",
       "27 2021-06-03   39148856525\n",
       "28 2021-06-02   39898648753\n",
       "29 2021-06-01   44445830388\n",
       "30 2021-05-31   37392021394\n",
       "31 2021-05-30   47141249182\n",
       "32 2021-05-29   49493519120\n",
       "33 2021-05-28   44070236220\n",
       "34 2021-05-27   53115222705\n",
       "35 2021-05-26   92468701274\n",
       "36 2021-05-25   73496058831\n",
       "37 2021-05-24   77839858614\n",
       "38 2021-05-23  102524751568\n",
       "39 2021-05-22  115000901892\n",
       "40 2021-05-21   92538167828\n",
       "41 2021-05-20  117905041184\n",
       "42 2021-05-19   59160464538\n",
       "43 2021-05-18   75100584776\n",
       "44 2021-05-17   67531308124\n",
       "45 2021-05-16   58150860876\n",
       "46 2021-05-15   63587729060\n",
       "47 2021-05-14   97383442023\n",
       "48 2021-05-13   78772032255\n",
       "49 2021-05-12   67869198116\n",
       "50 2021-05-11   80827215918\n",
       "51 2021-05-10   61625657297\n",
       "52 2021-05-09   60174921874\n",
       "53 2021-05-08   44980768421\n",
       "54 2021-05-07   50430169753\n",
       "55 2021-05-06   63552342594\n",
       "56 2021-05-05   78437235046\n",
       "57 2021-05-04   64192650586\n",
       "58 2021-05-03   35727432416\n",
       "59 2021-05-02   36721647718"
      ]
     },
     "execution_count": 58,
     "metadata": {},
     "output_type": "execute_result"
    }
   ],
   "source": [
    "df"
   ]
  },
  {
   "cell_type": "code",
   "execution_count": 59,
   "metadata": {},
   "outputs": [],
   "source": [
    "df = df.set_index('Date')"
   ]
  },
  {
   "cell_type": "markdown",
   "metadata": {},
   "source": [
    "### Implementing your webscrapping to the flask dashboard\n",
    "\n",
    "- Copy paste all of your web scrapping process to the desired position on the `app.py`\n",
    "- Changing the title of the dasboard at `index.html`"
   ]
  },
  {
   "cell_type": "markdown",
   "metadata": {},
   "source": [
    "## Finishing This Notebook with Your Analysis and Conclusion\n",
    "\n",
    "First you can do start with making the data visualisation. "
   ]
  },
  {
   "cell_type": "markdown",
   "metadata": {},
   "source": [
    "Data visualisation (Here I just change the \"Date column as index and I can show the plot)"
   ]
  },
  {
   "cell_type": "code",
   "execution_count": 60,
   "metadata": {
    "ExecuteTime": {
     "end_time": "2020-01-13T05:20:56.208237Z",
     "start_time": "2020-01-13T05:20:56.076043Z"
    }
   },
   "outputs": [
    {
     "data": {
      "text/plain": [
       "<AxesSubplot:xlabel='Date'>"
      ]
     },
     "execution_count": 60,
     "metadata": {},
     "output_type": "execute_result"
    },
    {
     "data": {
      "image/png": "[encoded data removed]",
      "text/plain": [
       "<Figure size 432x288 with 1 Axes>"
      ]
     },
     "metadata": {
      "needs_background": "light"
     },
     "output_type": "display_data"
    }
   ],
   "source": [
    "df.plot()"
   ]
  },
  {
   "cell_type": "markdown",
   "metadata": {},
   "source": [
    "So I can draw the following conclusions:\n",
    "- The highest volume movement occurred on May 20, 2021\n",
    "- The lowest volume movement occured on June 20, 2021"
   ]
  },
  {
   "cell_type": "markdown",
   "metadata": {},
   "source": [
    "### Extra Challange\n",
    "\n",
    "This will be not included to the scoring. \n",
    "\n",
    "- You can create additional analysis from the data.\n",
    "- Implement it to the dashboard with at `app.py` dan `index.html`."
   ]
  }
 ],
 "metadata": {
  "kernelspec": {
   "display_name": "capstone_da",
   "language": "python",
   "name": "capstone_da"
  },
  "language_info": {
   "codemirror_mode": {
    "name": "ipython",
    "version": 3
   },
   "file_extension": ".py",
   "mimetype": "text/x-python",
   "name": "python",
   "nbconvert_exporter": "python",
   "pygments_lexer": "ipython3",
   "version": "3.8.13"
  }
 },
 "nbformat": 4,
 "nbformat_minor": 2
}
